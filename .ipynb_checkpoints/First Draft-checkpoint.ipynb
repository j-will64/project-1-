{
 "cells": [
  {
   "cell_type": "code",
   "execution_count": null,
   "id": "f54b0aaf",
   "metadata": {},
   "outputs": [],
   "source": [
    "# Import Dependencies\n",
    "import matplotlib.pyplot as plt\n",
    "import pandas as pd"
   ]
  },
  {
   "cell_type": "code",
   "execution_count": null,
   "id": "9262fa48",
   "metadata": {},
   "outputs": [],
   "source": [
    "# Import our data into pandas from CSV\n",
    "Tbill_Int_Rate = '../Documents/projectfolder/project-1-/TB3MS.csv'\n",
    "Tbill_Int_Rate_df = pd.read_csv(Tbill_Int_Rate, low_memory=False)"
   ]
  }
 ],
 "metadata": {
  "kernelspec": {
   "display_name": "Python 3 (ipykernel)",
   "language": "python",
   "name": "python3"
  },
  "language_info": {
   "codemirror_mode": {
    "name": "ipython",
    "version": 3
   },
   "file_extension": ".py",
   "mimetype": "text/x-python",
   "name": "python",
   "nbconvert_exporter": "python",
   "pygments_lexer": "ipython3",
   "version": "3.9.18"
  }
 },
 "nbformat": 4,
 "nbformat_minor": 5
}
