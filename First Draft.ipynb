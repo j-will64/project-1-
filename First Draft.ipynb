{
 "cells": [
  {
   "cell_type": "code",
   "execution_count": 1,
   "id": "30e3f8dd",
   "metadata": {},
   "outputs": [],
   "source": [
    "#import warnings\n",
    "#warnings.filterwarnings('ignore')"
   ]
  },
  {
   "cell_type": "code",
   "execution_count": 2,
   "id": "f54b0aaf",
   "metadata": {},
   "outputs": [],
   "source": [
    "# Import Dependencies\n",
    "# ?wid: %matplotlib inline\n",
    "\n",
    "#import matplotlib.pyplot as plt\n",
    "#contrast to:\n",
    "#from matplotlib import pyplot as plt\n",
    "#import numpy as np\n",
    "#import scipy.stats as stats\n",
    "import pandas as pd"
   ]
  },
  {
   "cell_type": "code",
   "execution_count": 3,
   "id": "eb0a377f",
   "metadata": {},
   "outputs": [],
   "source": [
    "# Import our data into pandas from CSV\n",
    "s_p_500 = 'SP500.csv'\n",
    "s_p_500_df = pd.read_csv(s_p_500, low_memory=False)"
   ]
  },
  {
   "cell_type": "code",
   "execution_count": 4,
   "id": "0338fee4",
   "metadata": {
    "scrolled": true
   },
   "outputs": [
    {
     "data": {
      "text/html": [
       "<div>\n",
       "<style scoped>\n",
       "    .dataframe tbody tr th:only-of-type {\n",
       "        vertical-align: middle;\n",
       "    }\n",
       "\n",
       "    .dataframe tbody tr th {\n",
       "        vertical-align: top;\n",
       "    }\n",
       "\n",
       "    .dataframe thead th {\n",
       "        text-align: right;\n",
       "    }\n",
       "</style>\n",
       "<table border=\"1\" class=\"dataframe\">\n",
       "  <thead>\n",
       "    <tr style=\"text-align: right;\">\n",
       "      <th></th>\n",
       "      <th>DATE</th>\n",
       "      <th>SP500</th>\n",
       "    </tr>\n",
       "  </thead>\n",
       "  <tbody>\n",
       "    <tr>\n",
       "      <th>0</th>\n",
       "      <td>10/29/2018</td>\n",
       "      <td>2641.25</td>\n",
       "    </tr>\n",
       "    <tr>\n",
       "      <th>1</th>\n",
       "      <td>10/30/2018</td>\n",
       "      <td>2682.63</td>\n",
       "    </tr>\n",
       "    <tr>\n",
       "      <th>2</th>\n",
       "      <td>10/31/2018</td>\n",
       "      <td>2711.74</td>\n",
       "    </tr>\n",
       "    <tr>\n",
       "      <th>3</th>\n",
       "      <td>11/1/2018</td>\n",
       "      <td>2740.37</td>\n",
       "    </tr>\n",
       "    <tr>\n",
       "      <th>4</th>\n",
       "      <td>11/2/2018</td>\n",
       "      <td>2723.06</td>\n",
       "    </tr>\n",
       "  </tbody>\n",
       "</table>\n",
       "</div>"
      ],
      "text/plain": [
       "         DATE    SP500\n",
       "0  10/29/2018  2641.25\n",
       "1  10/30/2018  2682.63\n",
       "2  10/31/2018  2711.74\n",
       "3   11/1/2018  2740.37\n",
       "4   11/2/2018  2723.06"
      ]
     },
     "execution_count": 4,
     "metadata": {},
     "output_type": "execute_result"
    }
   ],
   "source": [
    "s_p_500_df.head()"
   ]
  },
  {
   "cell_type": "code",
   "execution_count": 5,
   "id": "25a64c0d",
   "metadata": {
    "scrolled": true
   },
   "outputs": [
    {
     "ename": "ValueError",
     "evalue": "Unable to parse string \".\" at position 18",
     "output_type": "error",
     "traceback": [
      "\u001b[1;31m---------------------------------------------------------------------------\u001b[0m",
      "\u001b[1;31mValueError\u001b[0m                                Traceback (most recent call last)",
      "File \u001b[1;32m~\\anaconda3\\lib\\site-packages\\pandas\\_libs\\lib.pyx:2315\u001b[0m, in \u001b[0;36mpandas._libs.lib.maybe_convert_numeric\u001b[1;34m()\u001b[0m\n",
      "\u001b[1;31mValueError\u001b[0m: Unable to parse string \".\"",
      "\nDuring handling of the above exception, another exception occurred:\n",
      "\u001b[1;31mValueError\u001b[0m                                Traceback (most recent call last)",
      "Cell \u001b[1;32mIn[5], line 3\u001b[0m\n\u001b[0;32m      1\u001b[0m \u001b[38;5;66;03m# Convert Date to date format. Lots of help\u001b[39;00m\n\u001b[0;32m      2\u001b[0m \u001b[38;5;66;03m# This cell was created mostly by SOMEONE NOT ME //i.e. OUTSIDE HELP\u001b[39;00m\n\u001b[1;32m----> 3\u001b[0m s_p_500_df[\u001b[38;5;124m'\u001b[39m\u001b[38;5;124mSP500\u001b[39m\u001b[38;5;124m'\u001b[39m] \u001b[38;5;241m=\u001b[39m \u001b[43mpd\u001b[49m\u001b[38;5;241;43m.\u001b[39;49m\u001b[43mto_numeric\u001b[49m\u001b[43m(\u001b[49m\u001b[43ms_p_500_df\u001b[49m\u001b[43m[\u001b[49m\u001b[38;5;124;43m'\u001b[39;49m\u001b[38;5;124;43mSP500\u001b[39;49m\u001b[38;5;124;43m'\u001b[39;49m\u001b[43m]\u001b[49m\u001b[43m)\u001b[49m\n\u001b[0;32m      4\u001b[0m s_p_500_df \u001b[38;5;241m=\u001b[39m s_p_500_df\u001b[38;5;241m.\u001b[39mdropna(subset\u001b[38;5;241m=\u001b[39m[\u001b[38;5;124m'\u001b[39m\u001b[38;5;124mSP500\u001b[39m\u001b[38;5;124m'\u001b[39m])\n\u001b[0;32m      6\u001b[0m s_p_500_df[\u001b[38;5;124m\"\u001b[39m\u001b[38;5;124mDATE\u001b[39m\u001b[38;5;124m\"\u001b[39m] \u001b[38;5;241m=\u001b[39m pd\u001b[38;5;241m.\u001b[39mto_datetime(s_p_500_df[\u001b[38;5;124m\"\u001b[39m\u001b[38;5;124mDATE\u001b[39m\u001b[38;5;124m\"\u001b[39m], \u001b[38;5;28mformat\u001b[39m\u001b[38;5;241m=\u001b[39m\u001b[38;5;124m'\u001b[39m\u001b[38;5;124m%\u001b[39m\u001b[38;5;124mm/\u001b[39m\u001b[38;5;132;01m%d\u001b[39;00m\u001b[38;5;124m/\u001b[39m\u001b[38;5;124m%\u001b[39m\u001b[38;5;124mY\u001b[39m\u001b[38;5;124m'\u001b[39m)\n",
      "File \u001b[1;32m~\\anaconda3\\lib\\site-packages\\pandas\\core\\tools\\numeric.py:184\u001b[0m, in \u001b[0;36mto_numeric\u001b[1;34m(arg, errors, downcast)\u001b[0m\n\u001b[0;32m    182\u001b[0m coerce_numeric \u001b[38;5;241m=\u001b[39m errors \u001b[38;5;129;01mnot\u001b[39;00m \u001b[38;5;129;01min\u001b[39;00m (\u001b[38;5;124m\"\u001b[39m\u001b[38;5;124mignore\u001b[39m\u001b[38;5;124m\"\u001b[39m, \u001b[38;5;124m\"\u001b[39m\u001b[38;5;124mraise\u001b[39m\u001b[38;5;124m\"\u001b[39m)\n\u001b[0;32m    183\u001b[0m \u001b[38;5;28;01mtry\u001b[39;00m:\n\u001b[1;32m--> 184\u001b[0m     values, _ \u001b[38;5;241m=\u001b[39m \u001b[43mlib\u001b[49m\u001b[38;5;241;43m.\u001b[39;49m\u001b[43mmaybe_convert_numeric\u001b[49m\u001b[43m(\u001b[49m\n\u001b[0;32m    185\u001b[0m \u001b[43m        \u001b[49m\u001b[43mvalues\u001b[49m\u001b[43m,\u001b[49m\u001b[43m \u001b[49m\u001b[38;5;28;43mset\u001b[39;49m\u001b[43m(\u001b[49m\u001b[43m)\u001b[49m\u001b[43m,\u001b[49m\u001b[43m \u001b[49m\u001b[43mcoerce_numeric\u001b[49m\u001b[38;5;241;43m=\u001b[39;49m\u001b[43mcoerce_numeric\u001b[49m\n\u001b[0;32m    186\u001b[0m \u001b[43m    \u001b[49m\u001b[43m)\u001b[49m\n\u001b[0;32m    187\u001b[0m \u001b[38;5;28;01mexcept\u001b[39;00m (\u001b[38;5;167;01mValueError\u001b[39;00m, \u001b[38;5;167;01mTypeError\u001b[39;00m):\n\u001b[0;32m    188\u001b[0m     \u001b[38;5;28;01mif\u001b[39;00m errors \u001b[38;5;241m==\u001b[39m \u001b[38;5;124m\"\u001b[39m\u001b[38;5;124mraise\u001b[39m\u001b[38;5;124m\"\u001b[39m:\n",
      "File \u001b[1;32m~\\anaconda3\\lib\\site-packages\\pandas\\_libs\\lib.pyx:2357\u001b[0m, in \u001b[0;36mpandas._libs.lib.maybe_convert_numeric\u001b[1;34m()\u001b[0m\n",
      "\u001b[1;31mValueError\u001b[0m: Unable to parse string \".\" at position 18"
     ]
    }
   ],
   "source": [
    "# Convert Date to date format. Lots of help\n",
    "# This cell was created mostly by SOMEONE NOT ME //i.e. OUTSIDE HELP\n",
    "s_p_500_df['SP500'] = pd.to_numeric(s_p_500_df['SP500'])\n",
    "s_p_500_df = s_p_500_df.dropna(subset=['SP500'])\n",
    "\n",
    "s_p_500_df[\"DATE\"] = pd.to_datetime(s_p_500_df[\"DATE\"], format='%m/%d/%Y')\n",
    "s_p_500_df.head()"
   ]
  },
  {
   "cell_type": "code",
   "execution_count": null,
   "id": "c8955966",
   "metadata": {},
   "outputs": [],
   "source": [
    "# This cell was created mostly by SOMEONE NOT ME //i.e. OUTSIDE HELP\n",
    "s_p_500_df[\"month\"] = s_p_500_df[\"DATE\"].dt.to_period(\"M\")\n",
    "s_p_500_df[\"month\"] = s_p_500_df[\"month\"].dt.strftime('%m/%Y')\n",
    "s_p_500_df.head()"
   ]
  },
  {
   "cell_type": "code",
   "execution_count": null,
   "id": "26fa2899",
   "metadata": {},
   "outputs": [],
   "source": [
    "sp500_month_summary = s_p_500_df.groupby('month').agg(SP500=('SP500', 'mean'))\n",
    "sp500_month_summary\n",
    "                                                                   "
   ]
  },
  {
   "cell_type": "code",
   "execution_count": null,
   "id": "556b2b83",
   "metadata": {},
   "outputs": [],
   "source": [
    "len(sp500_month_summary)"
   ]
  },
  {
   "cell_type": "code",
   "execution_count": null,
   "id": "ef0dae16",
   "metadata": {
    "scrolled": true
   },
   "outputs": [],
   "source": [
    "# This cell was accidentally wiped out by cntl+\"Z\" aoubt 10:19 pm Halloween.... Spooky\n",
    "\n",
    "\n",
    "tbill_int_rate_df.head()"
   ]
  },
  {
   "cell_type": "code",
   "execution_count": null,
   "id": "e0419934",
   "metadata": {},
   "outputs": [],
   "source": [
    "# Combine the data into a single DataFrame\n",
    "tbill_and_sp500 = pd.merge(tbill_int_rate_df, sp500_month_summary, how=\"left\", on=[\"month\", \"month\"])\n",
    "tbill_and_sp500.head()"
   ]
  },
  {
   "cell_type": "code",
   "execution_count": null,
   "id": "2ccf3bc1",
   "metadata": {},
   "outputs": [],
   "source": [
    "# i got outside and specific help on this cell i.e. this cell was mostly created by SOMEONE NOT ME //i.e. OUTSIDE HELP\n",
    "tbill_and_sp500_overlap = tbill_and_sp500.dropna(subset=['SP500', 'TB3MS'])\n",
    "tbill_and_sp500_overlap.head()"
   ]
  },
  {
   "cell_type": "code",
   "execution_count": null,
   "id": "755f670e",
   "metadata": {},
   "outputs": [],
   "source": [
    "# ............. AND THEN A MIRACLE HAPPENS ..........\n",
    "# MARKDOwn?? \n",
    "# All dataframes up to this point in code have been intermediate steps towards an ultimate, one-stop-shopping dataframe.\n",
    "# This new datafram will be called omnibus_df and it will be completed in Excel (how convenient!) then imported to Python.\n",
    "# \n",
    "# Changes made in Excel are: \n",
    "# (1) making DATE field: less ornery; free from ERROR MESSAGES; and in standard format of yyyymm\n",
    "# (2) adding data for DJIA = Dow Jones Industrial Average\n",
    "# (3) adding data for RECESSION = Boolean to indicate whether there was a recession that month\n",
    "# (4) adding red herring data for CHARITY = charitable giving that month\n",
    "# (5) adding data for 30 YEAR = home mortgage interest rates on a 30 year fixed mortgage.\n",
    "# (6) adding data for INFATION = inflation rate by month\n",
    "# (7) making all data run from 195001 to 202310 \n",
    "\n",
    "# NOTE: as described above, omnibus_df has exactly 7 columns. GIT Collaboraters may, if they choose,add addition colomns."
   ]
  }
 ],
 "metadata": {
  "kernelspec": {
   "display_name": "Python 3 (ipykernel)",
   "language": "python",
   "name": "python3"
  },
  "language_info": {
   "codemirror_mode": {
    "name": "ipython",
    "version": 3
   },
   "file_extension": ".py",
   "mimetype": "text/x-python",
   "name": "python",
   "nbconvert_exporter": "python",
   "pygments_lexer": "ipython3",
   "version": "3.9.18"
  }
 },
 "nbformat": 4,
 "nbformat_minor": 5
}
